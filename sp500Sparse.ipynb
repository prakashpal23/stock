{
 "cells": [
  {
   "cell_type": "code",
   "execution_count": 43,
   "metadata": {},
   "outputs": [],
   "source": [
    "# pip install yfinance"
   ]
  },
  {
   "cell_type": "code",
   "execution_count": 193,
   "metadata": {
    "colab": {
     "base_uri": "https://localhost:8080/",
     "height": 133
    },
    "id": "7S6WRmsEJzVX",
    "outputId": "6795450e-7f8b-4f82-bb8c-eb1f40dd7240"
   },
   "outputs": [],
   "source": [
    "import numpy as np\n",
    "import pandas as pd\n",
    "import networkx as nx\n",
    "import matplotlib.pyplot as plt\n",
    "import scipy.sparse as sp\n",
    "from scipy.sparse.linalg import eigsh\n",
    "import yfinance as yf\n",
    "import math\n",
    "import pandas_datareader as web \n",
    "import numpy as np \n",
    "import pandas as pd \n",
    "from sklearn.preprocessing import MinMaxScaler \n",
    "from keras.models import Sequential \n",
    "from keras.layers import Dense, LSTM \n",
    "import matplotlib.pyplot as plt \n",
    "plt.style.use('fivethirtyeight')"
   ]
  },
  {
   "cell_type": "code",
   "execution_count": 194,
   "metadata": {
    "id": "Cppjo52AKPOm"
   },
   "outputs": [
    {
     "name": "stdout",
     "output_type": "stream",
     "text": [
      "sector  Consumer Discretionary  Consumer Staples  Energy  Financials  \\\n",
      "stock                                                                  \n",
      "A                            0                 0       0           0   \n",
      "AA                           0                 0       0           0   \n",
      "AAL                          0                 0       0           0   \n",
      "AAP                          1                 0       0           0   \n",
      "AAPL                         0                 0       0           0   \n",
      "...                        ...               ...     ...         ...   \n",
      "YHOO                         0                 0       0           0   \n",
      "YUM                          1                 0       0           0   \n",
      "ZBH                          0                 0       0           0   \n",
      "ZION                         0                 0       0           1   \n",
      "ZTS                          0                 0       0           0   \n",
      "\n",
      "sector  Health Care  Industrials  Information Technology  Materials  \\\n",
      "stock                                                                 \n",
      "A                 1            0                       0          0   \n",
      "AA                0            0                       0          1   \n",
      "AAL               0            1                       0          0   \n",
      "AAP               0            0                       0          0   \n",
      "AAPL              0            0                       1          0   \n",
      "...             ...          ...                     ...        ...   \n",
      "YHOO              0            0                       1          0   \n",
      "YUM               0            0                       0          0   \n",
      "ZBH               1            0                       0          0   \n",
      "ZION              0            0                       0          0   \n",
      "ZTS               1            0                       0          0   \n",
      "\n",
      "sector  Real Estate  Telecommunications Services  Utilities  \n",
      "stock                                                        \n",
      "A                 0                            0          0  \n",
      "AA                0                            0          0  \n",
      "AAL               0                            0          0  \n",
      "AAP               0                            0          0  \n",
      "AAPL              0                            0          0  \n",
      "...             ...                          ...        ...  \n",
      "YHOO              0                            0          0  \n",
      "YUM               0                            0          0  \n",
      "ZBH               0                            0          0  \n",
      "ZION              0                            0          0  \n",
      "ZTS               0                            0          0  \n",
      "\n",
      "[566 rows x 11 columns]\n"
     ]
    }
   ],
   "source": [
    "import pandas as pd\n",
    "\n",
    "# Read the data from the CSV file\n",
    "data500_df = pd.read_csv('sp500_sectors.csv')\n",
    "\n",
    "# Create a pivot table with stocks as rows, sectors as columns, and count as values\n",
    "adjacency_df = data500_df.pivot_table(index='stock', columns='sector', aggfunc=len, fill_value=0)\n",
    "\n",
    "# Convert NaN values to 0 (if any)\n",
    "adjacency_df.fillna(0, inplace=True)\n",
    "\n",
    "# Print the adjacency DataFrame\n",
    "print(adjacency_df)\n"
   ]
  },
  {
   "cell_type": "code",
   "execution_count": 195,
   "metadata": {
    "id": "qieGpaDBJzVa",
    "outputId": "c0ee940c-88c7-41fd-95f5-d04ae7bc2973"
   },
   "outputs": [
    {
     "name": "stdout",
     "output_type": "stream",
     "text": [
      "Industrials\n",
      "74\n",
      "Consumer Staples\n",
      "42\n",
      "Energy\n",
      "53\n",
      "Information Technology\n",
      "76\n"
     ]
    }
   ],
   "source": [
    "import pandas as pd\n",
    "\n",
    "# Read from CSV file\n",
    "SP500 = pd.read_csv(\"SP500_sectors.csv\")\n",
    "\n",
    "# Selected sectors\n",
    "selected_sectors = [\"Industrials\", \"Consumer Staples\", \"Energy\", \"Information Technology\"]\n",
    "\n",
    "# Select stock names for the selected sectors\n",
    "stock_namelist = SP500.loc[SP500['sector'].isin(selected_sectors), 'stock']\n",
    "\n",
    "# See how many stocks per sector\n",
    "for sec in selected_sectors:\n",
    "    print(sec)\n",
    "    print(SP500[SP500['sector'] == sec].shape[0])\n",
    "# Assuming you have the 'SP500' DataFrame loaded with the necessary stock data\n"
   ]
  },
  {
   "cell_type": "code",
   "execution_count": 196,
   "metadata": {},
   "outputs": [],
   "source": [
    "# !pip install pandas_datareader\n",
    "import pandas_datareader as pdr"
   ]
  },
  {
   "cell_type": "code",
   "execution_count": null,
   "metadata": {},
   "outputs": [],
   "source": [
    "has_na = prices.isna().any().any()\n",
    "\n",
    "print(prices)\n",
    "print(\"Has NA:\", has_na)"
   ]
  },
  {
   "cell_type": "code",
   "execution_count": 211,
   "metadata": {},
   "outputs": [
    {
     "name": "stdout",
     "output_type": "stream",
     "text": [
      "245\n"
     ]
    }
   ],
   "source": [
    "import pandas as pd\n",
    "\n",
    "# Load the data from SP500_sectors.csv into a DataFrame\n",
    "SP500 = pd.read_csv('SP500_sectors.csv')\n",
    "\n",
    "# List of selected sectors\n",
    "selected_sectors = [\"Industrials\", \"Consumer Staples\", \"Energy\", \"Information Technology\"]\n",
    "\n",
    "# Filter stocks based on selected sectors\n",
    "selected_stocks = SP500[SP500['sector'].isin(selected_sectors)]['stock'].tolist()\n",
    "\n",
    "print(len(selected_stocks))\n"
   ]
  },
  {
   "cell_type": "code",
   "execution_count": 213,
   "metadata": {},
   "outputs": [
    {
     "name": "stdout",
     "output_type": "stream",
     "text": [
      "[*********************100%***********************]  1 of 1 completed\n",
      "[*********************100%***********************]  1 of 1 completed\n",
      "[*********************100%***********************]  1 of 1 completed\n",
      "[*********************100%***********************]  1 of 1 completed\n",
      "[*********************100%***********************]  1 of 1 completed\n",
      "[*********************100%***********************]  1 of 1 completed\n",
      "[*********************100%***********************]  1 of 1 completed\n",
      "[*********************100%***********************]  1 of 1 completed"
     ]
    },
    {
     "name": "stderr",
     "output_type": "stream",
     "text": [
      "\n",
      "1 Failed download:\n",
      "['ADS']: Exception('%ticker%: No timezone found, symbol may be delisted')\n"
     ]
    },
    {
     "name": "stdout",
     "output_type": "stream",
     "text": [
      "\n",
      "[*********************100%***********************]  1 of 1 completed\n",
      "[*********************100%***********************]  1 of 1 completed\n",
      "[*********************100%***********************]  1 of 1 completed\n",
      "[*********************100%***********************]  1 of 1 completed\n",
      "[*********************100%***********************]  1 of 1 completed\n",
      "[*********************100%***********************]  1 of 1 completed\n",
      "[*********************100%***********************]  1 of 1 completed\n",
      "[*********************100%***********************]  1 of 1 completed\n",
      "[*********************100%***********************]  1 of 1 completed\n",
      "[*********************100%***********************]  1 of 1 completed"
     ]
    },
    {
     "name": "stderr",
     "output_type": "stream",
     "text": [
      "\n",
      "1 Failed download:\n",
      "['APC']: Exception('%ticker%: No timezone found, symbol may be delisted')\n"
     ]
    },
    {
     "name": "stdout",
     "output_type": "stream",
     "text": [
      "\n",
      "[*********************100%***********************]  1 of 1 completed\n",
      "[*********************100%***********************]  1 of 1 completed"
     ]
    },
    {
     "name": "stderr",
     "output_type": "stream",
     "text": [
      "\n",
      "1 Failed download:\n",
      "['ARG']: Exception('%ticker%: No price data found, symbol may be delisted (1d 2016-01-01 -> 2020-05-20)')\n"
     ]
    },
    {
     "name": "stdout",
     "output_type": "stream",
     "text": [
      "\n",
      "[*********************100%***********************]  1 of 1 completed\n",
      "[*********************100%***********************]  1 of 1 completed\n",
      "[*********************100%***********************]  1 of 1 completed\n",
      "[*********************100%***********************]  1 of 1 completed\n",
      "[*********************100%***********************]  1 of 1 completed\n"
     ]
    },
    {
     "name": "stderr",
     "output_type": "stream",
     "text": [
      "Failed to get ticker 'BF/B' reason: Expecting value: line 1 column 1 (char 0)\n"
     ]
    },
    {
     "name": "stdout",
     "output_type": "stream",
     "text": [
      "\r",
      "[*********************100%***********************]  1 of 1 completed"
     ]
    },
    {
     "name": "stderr",
     "output_type": "stream",
     "text": [
      "\n",
      "1 Failed download:\n",
      "['BF/B']: Exception('%ticker%: No timezone found, symbol may be delisted')\n"
     ]
    },
    {
     "name": "stdout",
     "output_type": "stream",
     "text": [
      "\n",
      "[*********************100%***********************]  1 of 1 completed\n",
      "[*********************100%***********************]  1 of 1 completed\n",
      "[*********************100%***********************]  1 of 1 completed"
     ]
    },
    {
     "name": "stderr",
     "output_type": "stream",
     "text": [
      "\n",
      "1 Failed download:\n",
      "['BRCM']: Exception('%ticker%: No price data found, symbol may be delisted (1d 2016-01-01 -> 2020-05-20)')\n"
     ]
    },
    {
     "name": "stdout",
     "output_type": "stream",
     "text": [
      "\n",
      "[*********************100%***********************]  1 of 1 completed\n",
      "[*********************100%***********************]  1 of 1 completed\n",
      "[*********************100%***********************]  1 of 1 completed"
     ]
    },
    {
     "name": "stderr",
     "output_type": "stream",
     "text": [
      "\n",
      "1 Failed download:\n",
      "['CAM']: Exception('%ticker%: No price data found, symbol may be delisted (1d 2016-01-01 -> 2020-05-20)')\n"
     ]
    },
    {
     "name": "stdout",
     "output_type": "stream",
     "text": [
      "\n",
      "[*********************100%***********************]  1 of 1 completed\n",
      "[*********************100%***********************]  1 of 1 completed\n",
      "[*********************100%***********************]  1 of 1 completed\n",
      "[*********************100%***********************]  1 of 1 completed"
     ]
    },
    {
     "name": "stderr",
     "output_type": "stream",
     "text": [
      "\n",
      "1 Failed download:\n",
      "['CEG']: Exception(\"%ticker%: Data doesn't exist for startDate = 1451624400, endDate = 1589947200\")\n"
     ]
    },
    {
     "name": "stdout",
     "output_type": "stream",
     "text": [
      "\n",
      "[*********************100%***********************]  1 of 1 completed\n",
      "[*********************100%***********************]  1 of 1 completed"
     ]
    },
    {
     "name": "stderr",
     "output_type": "stream",
     "text": [
      "\n",
      "1 Failed download:\n",
      "['CHK']: Exception(\"%ticker%: Data doesn't exist for startDate = 1451624400, endDate = 1589947200\")\n"
     ]
    },
    {
     "name": "stdout",
     "output_type": "stream",
     "text": [
      "\n",
      "[*********************100%***********************]  1 of 1 completed\n",
      "[*********************100%***********************]  1 of 1 completed\n",
      "[*********************100%***********************]  1 of 1 completed\n",
      "[*********************100%***********************]  1 of 1 completed\n",
      "[*********************100%***********************]  1 of 1 completed"
     ]
    },
    {
     "name": "stderr",
     "output_type": "stream",
     "text": [
      "\n",
      "1 Failed download:\n",
      "['COG']: Exception('%ticker%: No timezone found, symbol may be delisted')\n"
     ]
    },
    {
     "name": "stdout",
     "output_type": "stream",
     "text": [
      "\n",
      "[*********************100%***********************]  1 of 1 completed\n",
      "[*********************100%***********************]  1 of 1 completed\n",
      "[*********************100%***********************]  1 of 1 completed\n",
      "[*********************100%***********************]  1 of 1 completed\n",
      "[*********************100%***********************]  1 of 1 completed"
     ]
    },
    {
     "name": "stderr",
     "output_type": "stream",
     "text": [
      "\n",
      "1 Failed download:\n",
      "['CPGX']: Exception('%ticker%: No price data found, symbol may be delisted (1d 2016-01-01 -> 2020-05-20)')\n"
     ]
    },
    {
     "name": "stdout",
     "output_type": "stream",
     "text": [
      "\n",
      "[*********************100%***********************]  1 of 1 completed\n",
      "[*********************100%***********************]  1 of 1 completed\n",
      "[*********************100%***********************]  1 of 1 completed\n",
      "[*********************100%***********************]  1 of 1 completed\n",
      "[*********************100%***********************]  1 of 1 completed\n",
      "[*********************100%***********************]  1 of 1 completed\n",
      "[*********************100%***********************]  1 of 1 completed\n",
      "[*********************100%***********************]  1 of 1 completed"
     ]
    },
    {
     "name": "stderr",
     "output_type": "stream",
     "text": [
      "\n",
      "1 Failed download:\n",
      "['CTXS']: Exception('%ticker%: No timezone found, symbol may be delisted')\n"
     ]
    },
    {
     "name": "stdout",
     "output_type": "stream",
     "text": [
      "\n",
      "[*********************100%***********************]  1 of 1 completed\n",
      "[*********************100%***********************]  1 of 1 completed\n",
      "[*********************100%***********************]  1 of 1 completed\n",
      "[*********************100%***********************]  1 of 1 completed\n",
      "[*********************100%***********************]  1 of 1 completed\n",
      "[*********************100%***********************]  1 of 1 completed"
     ]
    },
    {
     "name": "stderr",
     "output_type": "stream",
     "text": [
      "\n",
      "1 Failed download:\n",
      "['DF']: Exception('%ticker%: No timezone found, symbol may be delisted')\n"
     ]
    },
    {
     "name": "stdout",
     "output_type": "stream",
     "text": [
      "\n",
      "[*********************100%***********************]  1 of 1 completed\n",
      "[*********************100%***********************]  1 of 1 completed"
     ]
    },
    {
     "name": "stderr",
     "output_type": "stream",
     "text": [
      "\n",
      "1 Failed download:\n",
      "['DNB']: Exception(\"%ticker%: Data doesn't exist for startDate = 1451624400, endDate = 1589947200\")\n"
     ]
    },
    {
     "name": "stdout",
     "output_type": "stream",
     "text": [
      "\n",
      "[*********************100%***********************]  1 of 1 completed"
     ]
    },
    {
     "name": "stderr",
     "output_type": "stream",
     "text": [
      "\n",
      "1 Failed download:\n",
      "['DNR']: Exception('%ticker%: No timezone found, symbol may be delisted')\n"
     ]
    },
    {
     "name": "stdout",
     "output_type": "stream",
     "text": [
      "\n",
      "[*********************100%***********************]  1 of 1 completed"
     ]
    },
    {
     "name": "stderr",
     "output_type": "stream",
     "text": [
      "\n",
      "1 Failed download:\n",
      "['DO']: Exception(\"%ticker%: Data doesn't exist for startDate = 1451624400, endDate = 1589947200\")\n"
     ]
    },
    {
     "name": "stdout",
     "output_type": "stream",
     "text": [
      "\n",
      "[*********************100%***********************]  1 of 1 completed\n",
      "[*********************100%***********************]  1 of 1 completed"
     ]
    },
    {
     "name": "stderr",
     "output_type": "stream",
     "text": [
      "\n",
      "1 Failed download:\n",
      "['DPS']: Exception('%ticker%: No price data found, symbol may be delisted (1d 2016-01-01 -> 2020-05-20)')\n"
     ]
    },
    {
     "name": "stdout",
     "output_type": "stream",
     "text": [
      "\n",
      "[*********************100%***********************]  1 of 1 completed"
     ]
    },
    {
     "name": "stderr",
     "output_type": "stream",
     "text": [
      "\n",
      "1 Failed download:\n",
      "['DTV']: Exception('%ticker%: No timezone found, symbol may be delisted')\n"
     ]
    },
    {
     "name": "stdout",
     "output_type": "stream",
     "text": [
      "\n",
      "[*********************100%***********************]  1 of 1 completed\n",
      "[*********************100%***********************]  1 of 1 completed\n",
      "[*********************100%***********************]  1 of 1 completed\n",
      "[*********************100%***********************]  1 of 1 completed\n",
      "[*********************100%***********************]  1 of 1 completed"
     ]
    },
    {
     "name": "stderr",
     "output_type": "stream",
     "text": [
      "\n",
      "1 Failed download:\n",
      "['EMC']: Exception(\"%ticker%: Data doesn't exist for startDate = 1451624400, endDate = 1589947200\")\n"
     ]
    },
    {
     "name": "stdout",
     "output_type": "stream",
     "text": [
      "\n",
      "[*********************100%***********************]  1 of 1 completed\n",
      "[*********************100%***********************]  1 of 1 completed\n",
      "[*********************100%***********************]  1 of 1 completed\n",
      "[*********************100%***********************]  1 of 1 completed\n",
      "[*********************100%***********************]  1 of 1 completed\n",
      "[*********************100%***********************]  1 of 1 completed"
     ]
    },
    {
     "name": "stderr",
     "output_type": "stream",
     "text": [
      "\n",
      "1 Failed download:\n",
      "['ESV']: Exception('%ticker%: No timezone found, symbol may be delisted')\n"
     ]
    },
    {
     "name": "stdout",
     "output_type": "stream",
     "text": [
      "\n",
      "[*********************100%***********************]  1 of 1 completed\n",
      "[*********************100%***********************]  1 of 1 completed\n",
      "[*********************100%***********************]  1 of 1 completed\n",
      "[*********************100%***********************]  1 of 1 completed"
     ]
    },
    {
     "name": "stderr",
     "output_type": "stream",
     "text": [
      "\n",
      "1 Failed download:\n",
      "['FB']: Exception('%ticker%: No timezone found, symbol may be delisted')\n"
     ]
    },
    {
     "name": "stdout",
     "output_type": "stream",
     "text": [
      "\n",
      "[*********************100%***********************]  1 of 1 completed\n",
      "[*********************100%***********************]  1 of 1 completed\n",
      "[*********************100%***********************]  1 of 1 completed\n",
      "[*********************100%***********************]  1 of 1 completed"
     ]
    },
    {
     "name": "stderr",
     "output_type": "stream",
     "text": [
      "\n",
      "1 Failed download:\n",
      "['FISV']: Exception(\"%ticker%: Data doesn't exist for startDate = 1451624400, endDate = 1589947200\")\n"
     ]
    },
    {
     "name": "stdout",
     "output_type": "stream",
     "text": [
      "\n",
      "[*********************100%***********************]  1 of 1 completed"
     ]
    },
    {
     "name": "stderr",
     "output_type": "stream",
     "text": [
      "\n",
      "1 Failed download:\n",
      "['FLIR']: Exception('%ticker%: No timezone found, symbol may be delisted')\n"
     ]
    },
    {
     "name": "stdout",
     "output_type": "stream",
     "text": [
      "\n",
      "[*********************100%***********************]  1 of 1 completed\n",
      "[*********************100%***********************]  1 of 1 completed\n",
      "[*********************100%***********************]  1 of 1 completed\n",
      "[*********************100%***********************]  1 of 1 completed\n",
      "[*********************100%***********************]  1 of 1 completed\n",
      "[*********************100%***********************]  1 of 1 completed\n",
      "[*********************100%***********************]  1 of 1 completed\n",
      "[*********************100%***********************]  1 of 1 completed\n",
      "[*********************100%***********************]  1 of 1 completed\n",
      "[*********************100%***********************]  1 of 1 completed"
     ]
    },
    {
     "name": "stderr",
     "output_type": "stream",
     "text": [
      "\n",
      "1 Failed download:\n",
      "['GMCR']: Exception('%ticker%: No price data found, symbol may be delisted (1d 2016-01-01 -> 2020-05-20)')\n"
     ]
    },
    {
     "name": "stdout",
     "output_type": "stream",
     "text": [
      "\n",
      "[*********************100%***********************]  1 of 1 completed\n",
      "[*********************100%***********************]  1 of 1 completed\n",
      "[*********************100%***********************]  1 of 1 completed\n",
      "[*********************100%***********************]  1 of 1 completed\n",
      "[*********************100%***********************]  1 of 1 completed\n",
      "[*********************100%***********************]  1 of 1 completed\n",
      "[*********************100%***********************]  1 of 1 completed\n",
      "[*********************100%***********************]  1 of 1 completed\n",
      "[*********************100%***********************]  1 of 1 completed\n",
      "[*********************100%***********************]  1 of 1 completed\n",
      "[*********************100%***********************]  1 of 1 completed\n",
      "[*********************100%***********************]  1 of 1 completed\n",
      "[*********************100%***********************]  1 of 1 completed"
     ]
    },
    {
     "name": "stderr",
     "output_type": "stream",
     "text": [
      "\n",
      "1 Failed download:\n",
      "['HRS']: Exception('%ticker%: No timezone found, symbol may be delisted')\n"
     ]
    },
    {
     "name": "stdout",
     "output_type": "stream",
     "text": [
      "\n",
      "[*********************100%***********************]  1 of 1 completed\n",
      "[*********************100%***********************]  1 of 1 completed\n",
      "[*********************100%***********************]  1 of 1 completed\n",
      "[*********************100%***********************]  1 of 1 completed\n",
      "[*********************100%***********************]  1 of 1 completed\n",
      "[*********************100%***********************]  1 of 1 completed\n",
      "[*********************100%***********************]  1 of 1 completed\n",
      "[*********************100%***********************]  1 of 1 completed\n",
      "[*********************100%***********************]  1 of 1 completed\n",
      "[*********************100%***********************]  1 of 1 completed"
     ]
    },
    {
     "name": "stderr",
     "output_type": "stream",
     "text": [
      "\n",
      "1 Failed download:\n",
      "['JEC']: Exception('%ticker%: No timezone found, symbol may be delisted')\n"
     ]
    },
    {
     "name": "stdout",
     "output_type": "stream",
     "text": [
      "\n",
      "[*********************100%***********************]  1 of 1 completed\n",
      "[*********************100%***********************]  1 of 1 completed"
     ]
    },
    {
     "name": "stderr",
     "output_type": "stream",
     "text": [
      "\n",
      "1 Failed download:\n",
      "['JOY']: Exception('%ticker%: No price data found, symbol may be delisted (1d 2016-01-01 -> 2020-05-20)')\n"
     ]
    },
    {
     "name": "stdout",
     "output_type": "stream",
     "text": [
      "\n",
      "[*********************100%***********************]  1 of 1 completed\n",
      "[*********************100%***********************]  1 of 1 completed\n",
      "[*********************100%***********************]  1 of 1 completed\n",
      "[*********************100%***********************]  1 of 1 completed\n",
      "[*********************100%***********************]  1 of 1 completed\n",
      "[*********************100%***********************]  1 of 1 completed\n",
      "[*********************100%***********************]  1 of 1 completed\n",
      "[*********************100%***********************]  1 of 1 completed"
     ]
    },
    {
     "name": "stderr",
     "output_type": "stream",
     "text": [
      "\n",
      "1 Failed download:\n",
      "['KSU']: Exception('%ticker%: No timezone found, symbol may be delisted')\n"
     ]
    },
    {
     "name": "stdout",
     "output_type": "stream",
     "text": [
      "\n",
      "[*********************100%***********************]  1 of 1 completed\n",
      "[*********************100%***********************]  1 of 1 completed"
     ]
    },
    {
     "name": "stderr",
     "output_type": "stream",
     "text": [
      "\n",
      "1 Failed download:\n",
      "['LLL']: Exception('%ticker%: No timezone found, symbol may be delisted')\n"
     ]
    },
    {
     "name": "stdout",
     "output_type": "stream",
     "text": [
      "\n",
      "[*********************100%***********************]  1 of 1 completed"
     ]
    },
    {
     "name": "stderr",
     "output_type": "stream",
     "text": [
      "\n",
      "1 Failed download:\n",
      "['LLTC']: Exception('%ticker%: No price data found, symbol may be delisted (1d 2016-01-01 -> 2020-05-20)')\n"
     ]
    },
    {
     "name": "stdout",
     "output_type": "stream",
     "text": [
      "\n",
      "[*********************100%***********************]  1 of 1 completed\n",
      "[*********************100%***********************]  1 of 1 completed"
     ]
    },
    {
     "name": "stderr",
     "output_type": "stream",
     "text": [
      "\n",
      "1 Failed download:\n",
      "['LO']: Exception('%ticker%: No price data found, symbol may be delisted (1d 2016-01-01 -> 2020-05-20)')\n"
     ]
    },
    {
     "name": "stdout",
     "output_type": "stream",
     "text": [
      "\n",
      "[*********************100%***********************]  1 of 1 completed\n",
      "[*********************100%***********************]  1 of 1 completed\n",
      "[*********************100%***********************]  1 of 1 completed\n",
      "[*********************100%***********************]  1 of 1 completed"
     ]
    },
    {
     "name": "stderr",
     "output_type": "stream",
     "text": [
      "\n",
      "1 Failed download:\n",
      "['LXK']: Exception('%ticker%: No price data found, symbol may be delisted (1d 2016-01-01 -> 2020-05-20)')\n"
     ]
    },
    {
     "name": "stdout",
     "output_type": "stream",
     "text": [
      "\n",
      "[*********************100%***********************]  1 of 1 completed\n",
      "[*********************100%***********************]  1 of 1 completed\n",
      "[*********************100%***********************]  1 of 1 completed\n",
      "[*********************100%***********************]  1 of 1 completed\n",
      "[*********************100%***********************]  1 of 1 completed"
     ]
    },
    {
     "name": "stderr",
     "output_type": "stream",
     "text": [
      "\n",
      "1 Failed download:\n",
      "['MJN']: Exception('%ticker%: No price data found, symbol may be delisted (1d 2016-01-01 -> 2020-05-20)')\n"
     ]
    },
    {
     "name": "stdout",
     "output_type": "stream",
     "text": [
      "\n",
      "[*********************100%***********************]  1 of 1 completed\n",
      "[*********************100%***********************]  1 of 1 completed\n",
      "[*********************100%***********************]  1 of 1 completed\n",
      "[*********************100%***********************]  1 of 1 completed\n",
      "[*********************100%***********************]  1 of 1 completed"
     ]
    },
    {
     "name": "stderr",
     "output_type": "stream",
     "text": [
      "\n",
      "1 Failed download:\n",
      "['MOLX']: Exception('%ticker%: No price data found, symbol may be delisted (1d 2016-01-01 -> 2020-05-20)')\n"
     ]
    },
    {
     "name": "stdout",
     "output_type": "stream",
     "text": [
      "\n",
      "[*********************100%***********************]  1 of 1 completed\n",
      "[*********************100%***********************]  1 of 1 completed\n",
      "[*********************100%***********************]  1 of 1 completed\n",
      "[*********************100%***********************]  1 of 1 completed\n",
      "[*********************100%***********************]  1 of 1 completed\n",
      "[*********************100%***********************]  1 of 1 completed\n",
      "[*********************100%***********************]  1 of 1 completed"
     ]
    },
    {
     "name": "stderr",
     "output_type": "stream",
     "text": [
      "\n",
      "1 Failed download:\n",
      "['NBL']: Exception('%ticker%: No timezone found, symbol may be delisted')\n"
     ]
    },
    {
     "name": "stdout",
     "output_type": "stream",
     "text": [
      "\n",
      "[*********************100%***********************]  1 of 1 completed\n",
      "[*********************100%***********************]  1 of 1 completed"
     ]
    },
    {
     "name": "stderr",
     "output_type": "stream",
     "text": [
      "\n",
      "1 Failed download:\n",
      "['NE']: Exception(\"%ticker%: Data doesn't exist for startDate = 1451624400, endDate = 1589947200\")\n"
     ]
    },
    {
     "name": "stdout",
     "output_type": "stream",
     "text": [
      "\n",
      "[*********************100%***********************]  1 of 1 completed\n",
      "[*********************100%***********************]  1 of 1 completed\n",
      "[*********************100%***********************]  1 of 1 completed"
     ]
    },
    {
     "name": "stderr",
     "output_type": "stream",
     "text": [
      "\n",
      "1 Failed download:\n",
      "['NLSN']: Exception('%ticker%: No timezone found, symbol may be delisted')\n"
     ]
    },
    {
     "name": "stdout",
     "output_type": "stream",
     "text": [
      "\n",
      "[*********************100%***********************]  1 of 1 completed\n",
      "[*********************100%***********************]  1 of 1 completed\n",
      "[*********************100%***********************]  1 of 1 completed\n",
      "[*********************100%***********************]  1 of 1 completed\n",
      "[*********************100%***********************]  1 of 1 completed\n",
      "[*********************100%***********************]  1 of 1 completed\n",
      "[*********************100%***********************]  1 of 1 completed\n",
      "[*********************100%***********************]  1 of 1 completed\n",
      "[*********************100%***********************]  1 of 1 completed\n",
      "[*********************100%***********************]  1 of 1 completed\n",
      "[*********************100%***********************]  1 of 1 completed\n",
      "[*********************100%***********************]  1 of 1 completed\n",
      "[*********************100%***********************]  1 of 1 completed\n",
      "[*********************100%***********************]  1 of 1 completed\n",
      "[*********************100%***********************]  1 of 1 completed\n",
      "[*********************100%***********************]  1 of 1 completed\n",
      "[*********************100%***********************]  1 of 1 completed\n",
      "[*********************100%***********************]  1 of 1 completed\n",
      "[*********************100%***********************]  1 of 1 completed\n",
      "[*********************100%***********************]  1 of 1 completed\n",
      "[*********************100%***********************]  1 of 1 completed\n",
      "[*********************100%***********************]  1 of 1 completed\n",
      "[*********************100%***********************]  1 of 1 completed\n",
      "[*********************100%***********************]  1 of 1 completed"
     ]
    },
    {
     "name": "stderr",
     "output_type": "stream",
     "text": [
      "\n",
      "1 Failed download:\n",
      "['QEP']: Exception('%ticker%: No timezone found, symbol may be delisted')\n"
     ]
    },
    {
     "name": "stdout",
     "output_type": "stream",
     "text": [
      "\n",
      "[*********************100%***********************]  1 of 1 completed\n",
      "[*********************100%***********************]  1 of 1 completed\n",
      "[*********************100%***********************]  1 of 1 completed"
     ]
    },
    {
     "name": "stderr",
     "output_type": "stream",
     "text": [
      "\n",
      "1 Failed download:\n",
      "['RAI']: Exception('%ticker%: No price data found, symbol may be delisted (1d 2016-01-01 -> 2020-05-20)')\n"
     ]
    },
    {
     "name": "stdout",
     "output_type": "stream",
     "text": [
      "\n",
      "[*********************100%***********************]  1 of 1 completed"
     ]
    },
    {
     "name": "stderr",
     "output_type": "stream",
     "text": [
      "\n",
      "1 Failed download:\n",
      "['RDC']: Exception('%ticker%: No timezone found, symbol may be delisted')\n"
     ]
    },
    {
     "name": "stdout",
     "output_type": "stream",
     "text": [
      "\n",
      "[*********************100%***********************]  1 of 1 completed\n",
      "[*********************100%***********************]  1 of 1 completed"
     ]
    },
    {
     "name": "stderr",
     "output_type": "stream",
     "text": [
      "\n",
      "1 Failed download:\n",
      "['RHT']: Exception('%ticker%: No timezone found, symbol may be delisted')\n"
     ]
    },
    {
     "name": "stdout",
     "output_type": "stream",
     "text": [
      "\n",
      "[*********************100%***********************]  1 of 1 completed\n",
      "[*********************100%***********************]  1 of 1 completed\n",
      "[*********************100%***********************]  1 of 1 completed\n",
      "[*********************100%***********************]  1 of 1 completed\n",
      "[*********************100%***********************]  1 of 1 completed\n",
      "[*********************100%***********************]  1 of 1 completed"
     ]
    },
    {
     "name": "stderr",
     "output_type": "stream",
     "text": [
      "\n",
      "1 Failed download:\n",
      "['RTN']: Exception('%ticker%: No timezone found, symbol may be delisted')\n"
     ]
    },
    {
     "name": "stdout",
     "output_type": "stream",
     "text": [
      "\n",
      "[*********************100%***********************]  1 of 1 completed\n",
      "[*********************100%***********************]  1 of 1 completed\n",
      "[*********************100%***********************]  1 of 1 completed\n",
      "[*********************100%***********************]  1 of 1 completed"
     ]
    },
    {
     "name": "stderr",
     "output_type": "stream",
     "text": [
      "\n",
      "1 Failed download:\n",
      "['SNDK']: Exception('%ticker%: No price data found, symbol may be delisted (1d 2016-01-01 -> 2020-05-20)')\n"
     ]
    },
    {
     "name": "stdout",
     "output_type": "stream",
     "text": [
      "\n",
      "[*********************100%***********************]  1 of 1 completed\n",
      "[*********************100%***********************]  1 of 1 completed\n",
      "[*********************100%***********************]  1 of 1 completed\n",
      "[*********************100%***********************]  1 of 1 completed\n",
      "[*********************100%***********************]  1 of 1 completed\n",
      "[*********************100%***********************]  1 of 1 completed\n",
      "[*********************100%***********************]  1 of 1 completed"
     ]
    },
    {
     "name": "stderr",
     "output_type": "stream",
     "text": [
      "\n",
      "1 Failed download:\n",
      "['SYMC']: Exception('%ticker%: No timezone found, symbol may be delisted')\n"
     ]
    },
    {
     "name": "stdout",
     "output_type": "stream",
     "text": [
      "\n",
      "[*********************100%***********************]  1 of 1 completed\n",
      "[*********************100%***********************]  1 of 1 completed\n",
      "[*********************100%***********************]  1 of 1 completed\n",
      "[*********************100%***********************]  1 of 1 completed"
     ]
    },
    {
     "name": "stderr",
     "output_type": "stream",
     "text": [
      "\n",
      "1 Failed download:\n",
      "['TE']: Exception('%ticker%: No price data found, symbol may be delisted (1d 2016-01-01 -> 2020-05-20)')\n"
     ]
    },
    {
     "name": "stdout",
     "output_type": "stream",
     "text": [
      "\n",
      "[*********************100%***********************]  1 of 1 completed\n",
      "[*********************100%***********************]  1 of 1 completed\n",
      "[*********************100%***********************]  1 of 1 completed\n",
      "[*********************100%***********************]  1 of 1 completed\n",
      "[*********************100%***********************]  1 of 1 completed"
     ]
    },
    {
     "name": "stderr",
     "output_type": "stream",
     "text": [
      "\n",
      "1 Failed download:\n",
      "['TSO']: Exception('%ticker%: No price data found, symbol may be delisted (1d 2016-01-01 -> 2020-05-20)')\n"
     ]
    },
    {
     "name": "stdout",
     "output_type": "stream",
     "text": [
      "\n",
      "[*********************100%***********************]  1 of 1 completed"
     ]
    },
    {
     "name": "stderr",
     "output_type": "stream",
     "text": [
      "\n",
      "1 Failed download:\n",
      "['TSS']: Exception('%ticker%: No timezone found, symbol may be delisted')\n"
     ]
    },
    {
     "name": "stdout",
     "output_type": "stream",
     "text": [
      "\n",
      "[*********************100%***********************]  1 of 1 completed\n",
      "[*********************100%***********************]  1 of 1 completed\n",
      "[*********************100%***********************]  1 of 1 completed"
     ]
    },
    {
     "name": "stderr",
     "output_type": "stream",
     "text": [
      "\n",
      "1 Failed download:\n",
      "['TYC']: Exception('%ticker%: No price data found, symbol may be delisted (1d 2016-01-01 -> 2020-05-20)')\n"
     ]
    },
    {
     "name": "stdout",
     "output_type": "stream",
     "text": [
      "\n",
      "[*********************100%***********************]  1 of 1 completed\n",
      "[*********************100%***********************]  1 of 1 completed\n",
      "[*********************100%***********************]  1 of 1 completed\n",
      "[*********************100%***********************]  1 of 1 completed"
     ]
    },
    {
     "name": "stderr",
     "output_type": "stream",
     "text": [
      "\n",
      "1 Failed download:\n",
      "['UTX']: Exception('%ticker%: No timezone found, symbol may be delisted')\n"
     ]
    },
    {
     "name": "stdout",
     "output_type": "stream",
     "text": [
      "\n",
      "[*********************100%***********************]  1 of 1 completed\n",
      "[*********************100%***********************]  1 of 1 completed\n",
      "[*********************100%***********************]  1 of 1 completed\n",
      "[*********************100%***********************]  1 of 1 completed\n",
      "[*********************100%***********************]  1 of 1 completed\n",
      "[*********************100%***********************]  1 of 1 completed\n",
      "[*********************100%***********************]  1 of 1 completed"
     ]
    },
    {
     "name": "stderr",
     "output_type": "stream",
     "text": [
      "\n",
      "1 Failed download:\n",
      "['WFM']: Exception('%ticker%: No price data found, symbol may be delisted (1d 2016-01-01 -> 2020-05-20)')\n"
     ]
    },
    {
     "name": "stdout",
     "output_type": "stream",
     "text": [
      "\n",
      "[*********************100%***********************]  1 of 1 completed\n",
      "[*********************100%***********************]  1 of 1 completed\n",
      "[*********************100%***********************]  1 of 1 completed\n",
      "[*********************100%***********************]  1 of 1 completed"
     ]
    },
    {
     "name": "stderr",
     "output_type": "stream",
     "text": [
      "\n",
      "1 Failed download:\n",
      "['WPX']: Exception('%ticker%: No timezone found, symbol may be delisted')\n"
     ]
    },
    {
     "name": "stdout",
     "output_type": "stream",
     "text": [
      "\n",
      "[*********************100%***********************]  1 of 1 completed\n",
      "[*********************100%***********************]  1 of 1 completed"
     ]
    },
    {
     "name": "stderr",
     "output_type": "stream",
     "text": [
      "\n",
      "1 Failed download:\n",
      "['XEC']: Exception('%ticker%: No timezone found, symbol may be delisted')\n"
     ]
    },
    {
     "name": "stdout",
     "output_type": "stream",
     "text": [
      "\n",
      "[*********************100%***********************]  1 of 1 completed"
     ]
    },
    {
     "name": "stderr",
     "output_type": "stream",
     "text": [
      "\n",
      "1 Failed download:\n",
      "['XLNX']: Exception('%ticker%: No timezone found, symbol may be delisted')\n"
     ]
    },
    {
     "name": "stdout",
     "output_type": "stream",
     "text": [
      "\n",
      "[*********************100%***********************]  1 of 1 completed\n",
      "[*********************100%***********************]  1 of 1 completed\n",
      "[*********************100%***********************]  1 of 1 completed\n",
      "[*********************100%***********************]  1 of 1 completed"
     ]
    },
    {
     "name": "stderr",
     "output_type": "stream",
     "text": [
      "\n",
      "1 Failed download:\n",
      "['YHOO']: Exception('%ticker%: No price data found, symbol may be delisted (1d 2016-01-01 -> 2020-05-20)')\n"
     ]
    },
    {
     "name": "stdout",
     "output_type": "stream",
     "text": [
      "\n",
      "Stock           AAL        AAPL        ACN         ADBE        ADI    \\\n",
      "Date                                                                   \n",
      "2016-01-04  39.095451  24.041487   89.974739   91.970001   46.619469   \n",
      "2016-01-05  38.722759  23.439022   90.443024   92.339996   46.276928   \n",
      "2016-01-06  39.401272  22.980335   90.266319   91.019997   44.307327   \n",
      "2016-01-07  38.655865  22.010454   87.615585   89.110001   43.176952   \n",
      "2016-01-08  38.579411  22.126837   86.767357   87.849998   42.800156   \n",
      "...               ...        ...         ...         ...         ...   \n",
      "2020-05-13   9.110000  75.512825  173.031372  358.559998   97.783752   \n",
      "2020-05-14   9.150000  75.976730  172.065842  355.390015   99.375793   \n",
      "2020-05-15   9.040000  75.527542  175.784607  365.299988   95.899673   \n",
      "2020-05-18   9.870000  77.307060  184.264069  367.970001  102.060623   \n",
      "2020-05-19   9.640000  76.860352  181.721191  372.200012  100.167114   \n",
      "\n",
      "Stock           ADM         ADP         ADSK      ADT        AKAM   ...  \\\n",
      "Date                                                                ...   \n",
      "2016-01-04  28.962637   69.898880   60.310001       NaN  52.310001  ...   \n",
      "2016-01-05  29.285872   70.069206   60.389999       NaN  52.020000  ...   \n",
      "2016-01-06  28.574745   69.209023   59.540001       NaN  50.480000  ...   \n",
      "2016-01-07  27.895927   67.096809   55.980000       NaN  48.189999  ...   \n",
      "2016-01-08  27.790878   66.543175   55.060001       NaN  48.099998  ...   \n",
      "...               ...         ...         ...       ...        ...  ...   \n",
      "2020-05-13  31.251949  125.861519  176.860001  5.339507  95.370003  ...   \n",
      "2020-05-14  31.547480  126.207542  177.869995  5.528515  97.230003  ...   \n",
      "2020-05-15  31.510534  126.114006  180.720001  5.689173  98.089996  ...   \n",
      "2020-05-18  33.062050  127.563599  190.100006  5.953786  98.099998  ...   \n",
      "2020-05-19  32.483650  124.477402  194.710007  6.057740  97.300003  ...   \n",
      "\n",
      "Stock            VRSN       WBA        WDC        WM         WMB    \\\n",
      "Date                                                                 \n",
      "2016-01-04   83.949997  64.875511  52.125355  45.223648  16.620928   \n",
      "2016-01-05   81.410004  63.172569  51.900970  45.396095  16.677935   \n",
      "2016-01-06   81.019997  62.203938  50.744545  45.956543  14.505310   \n",
      "2016-01-07   80.550003  63.406929  49.907433  45.413334  13.054777   \n",
      "2016-01-08   78.150002  63.313187  47.801708  45.137428  12.864749   \n",
      "...                ...        ...        ...        ...        ...   \n",
      "2020-05-13  212.089996  33.158180  39.250000  91.312508  15.130517   \n",
      "2020-05-14  214.960007  33.590496  40.340000  91.936920  15.138704   \n",
      "2020-05-15  217.250000  33.201412  39.209999  90.754364  15.359766   \n",
      "2020-05-18  217.080002  35.328384  42.380001  94.283119  16.031139   \n",
      "2020-05-19  212.410004  34.775742  41.740002  93.024872  15.900141   \n",
      "\n",
      "Stock            WMT        WU         XOM        XRX        XYL    \n",
      "Date                                                                \n",
      "2016-01-04   52.716019  12.665267  54.520840  19.730724  32.865223  \n",
      "2016-01-05   53.968311  12.614947  54.985371  19.692400  32.856121  \n",
      "2016-01-06   54.508671  12.327431  54.527878  19.443377  32.446201  \n",
      "2016-01-07   55.778122  12.255548  53.655079  18.907003  31.608187  \n",
      "2016-01-08   54.500111  12.154920  52.571148  18.370642  31.307589  \n",
      "...                ...        ...        ...        ...        ...  \n",
      "2020-05-13  118.029266  15.355640  35.792641  12.807205  55.989227  \n",
      "2020-05-14  117.752563  15.405927  36.108486  12.823872  56.701000  \n",
      "2020-05-15  120.156845  15.565187  35.852394  12.407241  55.969994  \n",
      "2020-05-18  121.797882  16.260885  38.703514  13.982104  59.653873  \n",
      "2020-05-19  119.212311  15.724442  37.508434  14.482055  58.259197  \n",
      "\n",
      "[1102 rows x 185 columns]\n"
     ]
    }
   ],
   "source": [
    "import pandas as pd\n",
    "import yfinance as yf\n",
    "\n",
    "# Define the larger_than function\n",
    "def larger_than(x, thresh=500):\n",
    "    return any(x > thresh)\n",
    "\n",
    "# Selected stock names\n",
    "# selected_stocks = selected_stocks\n",
    "\n",
    "# Initialize an empty DataFrame to store the prices\n",
    "prices = pd.DataFrame()\n",
    "\n",
    "# Download data for each stock and append to the prices DataFrame\n",
    "for stock_name in selected_stocks:\n",
    "    try:\n",
    "        tmp = yf.download(stock_name, start=\"2016-01-01\", end=\"2020-05-20\")\n",
    "        # Add the 'Stock' column with the current stock name\n",
    "        tmp['Stock'] = stock_name\n",
    "        prices = pd.concat([prices, tmp])  # Concatenate the current stock data to the prices DataFrame\n",
    "    except Exception as e:\n",
    "        print(f\"Error downloading {stock_name}: {e}\")\n",
    "\n",
    "# Reset the index to ensure 'Date' is a column\n",
    "prices.reset_index(inplace=True)\n",
    "\n",
    "# Pivot the DataFrame to have 'Date' as the index and each stock as a column\n",
    "prices_pivot = prices.pivot(index='Date', columns='Stock', values='Adj Close')\n",
    "\n",
    "# Define the column_with_unreasonable_price boolean vector\n",
    "column_with_unreasonable_price = prices_pivot.apply(larger_than, thresh=500)\n",
    "column_with_unreasonable_price['CSC'] = True  # Explicitly set the 'CSC' column to True\n",
    "\n",
    "# Filter out columns with unreasonable prices from the prices DataFrame\n",
    "prices = prices_pivot.loc[:, ~column_with_unreasonable_price]\n",
    "\n",
    "print(prices)\n"
   ]
  },
  {
   "cell_type": "code",
   "execution_count": 229,
   "metadata": {},
   "outputs": [
    {
     "data": {
      "text/html": [
       "<div>\n",
       "<style scoped>\n",
       "    .dataframe tbody tr th:only-of-type {\n",
       "        vertical-align: middle;\n",
       "    }\n",
       "\n",
       "    .dataframe tbody tr th {\n",
       "        vertical-align: top;\n",
       "    }\n",
       "\n",
       "    .dataframe thead th {\n",
       "        text-align: right;\n",
       "    }\n",
       "</style>\n",
       "<table border=\"1\" class=\"dataframe\">\n",
       "  <thead>\n",
       "    <tr style=\"text-align: right;\">\n",
       "      <th>Stock</th>\n",
       "      <th>AAL</th>\n",
       "      <th>AAPL</th>\n",
       "      <th>ACN</th>\n",
       "      <th>ADBE</th>\n",
       "      <th>ADI</th>\n",
       "      <th>ADM</th>\n",
       "      <th>ADP</th>\n",
       "      <th>ADSK</th>\n",
       "      <th>ADT</th>\n",
       "      <th>AKAM</th>\n",
       "      <th>...</th>\n",
       "      <th>VRSN</th>\n",
       "      <th>WBA</th>\n",
       "      <th>WDC</th>\n",
       "      <th>WM</th>\n",
       "      <th>WMB</th>\n",
       "      <th>WMT</th>\n",
       "      <th>WU</th>\n",
       "      <th>XOM</th>\n",
       "      <th>XRX</th>\n",
       "      <th>XYL</th>\n",
       "    </tr>\n",
       "    <tr>\n",
       "      <th>Date</th>\n",
       "      <th></th>\n",
       "      <th></th>\n",
       "      <th></th>\n",
       "      <th></th>\n",
       "      <th></th>\n",
       "      <th></th>\n",
       "      <th></th>\n",
       "      <th></th>\n",
       "      <th></th>\n",
       "      <th></th>\n",
       "      <th></th>\n",
       "      <th></th>\n",
       "      <th></th>\n",
       "      <th></th>\n",
       "      <th></th>\n",
       "      <th></th>\n",
       "      <th></th>\n",
       "      <th></th>\n",
       "      <th></th>\n",
       "      <th></th>\n",
       "      <th></th>\n",
       "    </tr>\n",
       "  </thead>\n",
       "  <tbody>\n",
       "    <tr>\n",
       "      <th>2016-01-04</th>\n",
       "      <td>39.095451</td>\n",
       "      <td>24.041487</td>\n",
       "      <td>89.974739</td>\n",
       "      <td>91.970001</td>\n",
       "      <td>46.619469</td>\n",
       "      <td>28.962637</td>\n",
       "      <td>69.898880</td>\n",
       "      <td>60.310001</td>\n",
       "      <td>10.323908</td>\n",
       "      <td>52.310001</td>\n",
       "      <td>...</td>\n",
       "      <td>83.949997</td>\n",
       "      <td>64.875511</td>\n",
       "      <td>52.125355</td>\n",
       "      <td>45.223648</td>\n",
       "      <td>16.620928</td>\n",
       "      <td>52.716019</td>\n",
       "      <td>12.665267</td>\n",
       "      <td>54.520840</td>\n",
       "      <td>19.730724</td>\n",
       "      <td>32.865223</td>\n",
       "    </tr>\n",
       "    <tr>\n",
       "      <th>2016-01-05</th>\n",
       "      <td>38.722759</td>\n",
       "      <td>23.439022</td>\n",
       "      <td>90.443024</td>\n",
       "      <td>92.339996</td>\n",
       "      <td>46.276928</td>\n",
       "      <td>29.285872</td>\n",
       "      <td>70.069206</td>\n",
       "      <td>60.389999</td>\n",
       "      <td>10.323908</td>\n",
       "      <td>52.020000</td>\n",
       "      <td>...</td>\n",
       "      <td>81.410004</td>\n",
       "      <td>63.172569</td>\n",
       "      <td>51.900970</td>\n",
       "      <td>45.396095</td>\n",
       "      <td>16.677935</td>\n",
       "      <td>53.968311</td>\n",
       "      <td>12.614947</td>\n",
       "      <td>54.985371</td>\n",
       "      <td>19.692400</td>\n",
       "      <td>32.856121</td>\n",
       "    </tr>\n",
       "    <tr>\n",
       "      <th>2016-01-06</th>\n",
       "      <td>39.401272</td>\n",
       "      <td>22.980335</td>\n",
       "      <td>90.266319</td>\n",
       "      <td>91.019997</td>\n",
       "      <td>44.307327</td>\n",
       "      <td>28.574745</td>\n",
       "      <td>69.209023</td>\n",
       "      <td>59.540001</td>\n",
       "      <td>10.323908</td>\n",
       "      <td>50.480000</td>\n",
       "      <td>...</td>\n",
       "      <td>81.019997</td>\n",
       "      <td>62.203938</td>\n",
       "      <td>50.744545</td>\n",
       "      <td>45.956543</td>\n",
       "      <td>14.505310</td>\n",
       "      <td>54.508671</td>\n",
       "      <td>12.327431</td>\n",
       "      <td>54.527878</td>\n",
       "      <td>19.443377</td>\n",
       "      <td>32.446201</td>\n",
       "    </tr>\n",
       "    <tr>\n",
       "      <th>2016-01-07</th>\n",
       "      <td>38.655865</td>\n",
       "      <td>22.010454</td>\n",
       "      <td>87.615585</td>\n",
       "      <td>89.110001</td>\n",
       "      <td>43.176952</td>\n",
       "      <td>27.895927</td>\n",
       "      <td>67.096809</td>\n",
       "      <td>55.980000</td>\n",
       "      <td>10.323908</td>\n",
       "      <td>48.189999</td>\n",
       "      <td>...</td>\n",
       "      <td>80.550003</td>\n",
       "      <td>63.406929</td>\n",
       "      <td>49.907433</td>\n",
       "      <td>45.413334</td>\n",
       "      <td>13.054777</td>\n",
       "      <td>55.778122</td>\n",
       "      <td>12.255548</td>\n",
       "      <td>53.655079</td>\n",
       "      <td>18.907003</td>\n",
       "      <td>31.608187</td>\n",
       "    </tr>\n",
       "    <tr>\n",
       "      <th>2016-01-08</th>\n",
       "      <td>38.579411</td>\n",
       "      <td>22.126837</td>\n",
       "      <td>86.767357</td>\n",
       "      <td>87.849998</td>\n",
       "      <td>42.800156</td>\n",
       "      <td>27.790878</td>\n",
       "      <td>66.543175</td>\n",
       "      <td>55.060001</td>\n",
       "      <td>10.323908</td>\n",
       "      <td>48.099998</td>\n",
       "      <td>...</td>\n",
       "      <td>78.150002</td>\n",
       "      <td>63.313187</td>\n",
       "      <td>47.801708</td>\n",
       "      <td>45.137428</td>\n",
       "      <td>12.864749</td>\n",
       "      <td>54.500111</td>\n",
       "      <td>12.154920</td>\n",
       "      <td>52.571148</td>\n",
       "      <td>18.370642</td>\n",
       "      <td>31.307589</td>\n",
       "    </tr>\n",
       "    <tr>\n",
       "      <th>...</th>\n",
       "      <td>...</td>\n",
       "      <td>...</td>\n",
       "      <td>...</td>\n",
       "      <td>...</td>\n",
       "      <td>...</td>\n",
       "      <td>...</td>\n",
       "      <td>...</td>\n",
       "      <td>...</td>\n",
       "      <td>...</td>\n",
       "      <td>...</td>\n",
       "      <td>...</td>\n",
       "      <td>...</td>\n",
       "      <td>...</td>\n",
       "      <td>...</td>\n",
       "      <td>...</td>\n",
       "      <td>...</td>\n",
       "      <td>...</td>\n",
       "      <td>...</td>\n",
       "      <td>...</td>\n",
       "      <td>...</td>\n",
       "      <td>...</td>\n",
       "    </tr>\n",
       "    <tr>\n",
       "      <th>2020-05-13</th>\n",
       "      <td>9.110000</td>\n",
       "      <td>75.512825</td>\n",
       "      <td>173.031372</td>\n",
       "      <td>358.559998</td>\n",
       "      <td>97.783752</td>\n",
       "      <td>31.251949</td>\n",
       "      <td>125.861519</td>\n",
       "      <td>176.860001</td>\n",
       "      <td>5.339507</td>\n",
       "      <td>95.370003</td>\n",
       "      <td>...</td>\n",
       "      <td>212.089996</td>\n",
       "      <td>33.158180</td>\n",
       "      <td>39.250000</td>\n",
       "      <td>91.312508</td>\n",
       "      <td>15.130517</td>\n",
       "      <td>118.029266</td>\n",
       "      <td>15.355640</td>\n",
       "      <td>35.792641</td>\n",
       "      <td>12.807205</td>\n",
       "      <td>55.989227</td>\n",
       "    </tr>\n",
       "    <tr>\n",
       "      <th>2020-05-14</th>\n",
       "      <td>9.150000</td>\n",
       "      <td>75.976730</td>\n",
       "      <td>172.065842</td>\n",
       "      <td>355.390015</td>\n",
       "      <td>99.375793</td>\n",
       "      <td>31.547480</td>\n",
       "      <td>126.207542</td>\n",
       "      <td>177.869995</td>\n",
       "      <td>5.528515</td>\n",
       "      <td>97.230003</td>\n",
       "      <td>...</td>\n",
       "      <td>214.960007</td>\n",
       "      <td>33.590496</td>\n",
       "      <td>40.340000</td>\n",
       "      <td>91.936920</td>\n",
       "      <td>15.138704</td>\n",
       "      <td>117.752563</td>\n",
       "      <td>15.405927</td>\n",
       "      <td>36.108486</td>\n",
       "      <td>12.823872</td>\n",
       "      <td>56.701000</td>\n",
       "    </tr>\n",
       "    <tr>\n",
       "      <th>2020-05-15</th>\n",
       "      <td>9.040000</td>\n",
       "      <td>75.527542</td>\n",
       "      <td>175.784607</td>\n",
       "      <td>365.299988</td>\n",
       "      <td>95.899673</td>\n",
       "      <td>31.510534</td>\n",
       "      <td>126.114006</td>\n",
       "      <td>180.720001</td>\n",
       "      <td>5.689173</td>\n",
       "      <td>98.089996</td>\n",
       "      <td>...</td>\n",
       "      <td>217.250000</td>\n",
       "      <td>33.201412</td>\n",
       "      <td>39.209999</td>\n",
       "      <td>90.754364</td>\n",
       "      <td>15.359766</td>\n",
       "      <td>120.156845</td>\n",
       "      <td>15.565187</td>\n",
       "      <td>35.852394</td>\n",
       "      <td>12.407241</td>\n",
       "      <td>55.969994</td>\n",
       "    </tr>\n",
       "    <tr>\n",
       "      <th>2020-05-18</th>\n",
       "      <td>9.870000</td>\n",
       "      <td>77.307060</td>\n",
       "      <td>184.264069</td>\n",
       "      <td>367.970001</td>\n",
       "      <td>102.060623</td>\n",
       "      <td>33.062050</td>\n",
       "      <td>127.563599</td>\n",
       "      <td>190.100006</td>\n",
       "      <td>5.953786</td>\n",
       "      <td>98.099998</td>\n",
       "      <td>...</td>\n",
       "      <td>217.080002</td>\n",
       "      <td>35.328384</td>\n",
       "      <td>42.380001</td>\n",
       "      <td>94.283119</td>\n",
       "      <td>16.031139</td>\n",
       "      <td>121.797882</td>\n",
       "      <td>16.260885</td>\n",
       "      <td>38.703514</td>\n",
       "      <td>13.982104</td>\n",
       "      <td>59.653873</td>\n",
       "    </tr>\n",
       "    <tr>\n",
       "      <th>2020-05-19</th>\n",
       "      <td>9.640000</td>\n",
       "      <td>76.860352</td>\n",
       "      <td>181.721191</td>\n",
       "      <td>372.200012</td>\n",
       "      <td>100.167114</td>\n",
       "      <td>32.483650</td>\n",
       "      <td>124.477402</td>\n",
       "      <td>194.710007</td>\n",
       "      <td>6.057740</td>\n",
       "      <td>97.300003</td>\n",
       "      <td>...</td>\n",
       "      <td>212.410004</td>\n",
       "      <td>34.775742</td>\n",
       "      <td>41.740002</td>\n",
       "      <td>93.024872</td>\n",
       "      <td>15.900141</td>\n",
       "      <td>119.212311</td>\n",
       "      <td>15.724442</td>\n",
       "      <td>37.508434</td>\n",
       "      <td>14.482055</td>\n",
       "      <td>58.259197</td>\n",
       "    </tr>\n",
       "  </tbody>\n",
       "</table>\n",
       "<p>1102 rows × 185 columns</p>\n",
       "</div>"
      ],
      "text/plain": [
       "Stock           AAL        AAPL        ACN         ADBE        ADI    \\\n",
       "Date                                                                   \n",
       "2016-01-04  39.095451  24.041487   89.974739   91.970001   46.619469   \n",
       "2016-01-05  38.722759  23.439022   90.443024   92.339996   46.276928   \n",
       "2016-01-06  39.401272  22.980335   90.266319   91.019997   44.307327   \n",
       "2016-01-07  38.655865  22.010454   87.615585   89.110001   43.176952   \n",
       "2016-01-08  38.579411  22.126837   86.767357   87.849998   42.800156   \n",
       "...               ...        ...         ...         ...         ...   \n",
       "2020-05-13   9.110000  75.512825  173.031372  358.559998   97.783752   \n",
       "2020-05-14   9.150000  75.976730  172.065842  355.390015   99.375793   \n",
       "2020-05-15   9.040000  75.527542  175.784607  365.299988   95.899673   \n",
       "2020-05-18   9.870000  77.307060  184.264069  367.970001  102.060623   \n",
       "2020-05-19   9.640000  76.860352  181.721191  372.200012  100.167114   \n",
       "\n",
       "Stock           ADM         ADP         ADSK       ADT        AKAM   ...  \\\n",
       "Date                                                                 ...   \n",
       "2016-01-04  28.962637   69.898880   60.310001  10.323908  52.310001  ...   \n",
       "2016-01-05  29.285872   70.069206   60.389999  10.323908  52.020000  ...   \n",
       "2016-01-06  28.574745   69.209023   59.540001  10.323908  50.480000  ...   \n",
       "2016-01-07  27.895927   67.096809   55.980000  10.323908  48.189999  ...   \n",
       "2016-01-08  27.790878   66.543175   55.060001  10.323908  48.099998  ...   \n",
       "...               ...         ...         ...        ...        ...  ...   \n",
       "2020-05-13  31.251949  125.861519  176.860001   5.339507  95.370003  ...   \n",
       "2020-05-14  31.547480  126.207542  177.869995   5.528515  97.230003  ...   \n",
       "2020-05-15  31.510534  126.114006  180.720001   5.689173  98.089996  ...   \n",
       "2020-05-18  33.062050  127.563599  190.100006   5.953786  98.099998  ...   \n",
       "2020-05-19  32.483650  124.477402  194.710007   6.057740  97.300003  ...   \n",
       "\n",
       "Stock            VRSN       WBA        WDC        WM         WMB    \\\n",
       "Date                                                                 \n",
       "2016-01-04   83.949997  64.875511  52.125355  45.223648  16.620928   \n",
       "2016-01-05   81.410004  63.172569  51.900970  45.396095  16.677935   \n",
       "2016-01-06   81.019997  62.203938  50.744545  45.956543  14.505310   \n",
       "2016-01-07   80.550003  63.406929  49.907433  45.413334  13.054777   \n",
       "2016-01-08   78.150002  63.313187  47.801708  45.137428  12.864749   \n",
       "...                ...        ...        ...        ...        ...   \n",
       "2020-05-13  212.089996  33.158180  39.250000  91.312508  15.130517   \n",
       "2020-05-14  214.960007  33.590496  40.340000  91.936920  15.138704   \n",
       "2020-05-15  217.250000  33.201412  39.209999  90.754364  15.359766   \n",
       "2020-05-18  217.080002  35.328384  42.380001  94.283119  16.031139   \n",
       "2020-05-19  212.410004  34.775742  41.740002  93.024872  15.900141   \n",
       "\n",
       "Stock            WMT        WU         XOM        XRX        XYL    \n",
       "Date                                                                \n",
       "2016-01-04   52.716019  12.665267  54.520840  19.730724  32.865223  \n",
       "2016-01-05   53.968311  12.614947  54.985371  19.692400  32.856121  \n",
       "2016-01-06   54.508671  12.327431  54.527878  19.443377  32.446201  \n",
       "2016-01-07   55.778122  12.255548  53.655079  18.907003  31.608187  \n",
       "2016-01-08   54.500111  12.154920  52.571148  18.370642  31.307589  \n",
       "...                ...        ...        ...        ...        ...  \n",
       "2020-05-13  118.029266  15.355640  35.792641  12.807205  55.989227  \n",
       "2020-05-14  117.752563  15.405927  36.108486  12.823872  56.701000  \n",
       "2020-05-15  120.156845  15.565187  35.852394  12.407241  55.969994  \n",
       "2020-05-18  121.797882  16.260885  38.703514  13.982104  59.653873  \n",
       "2020-05-19  119.212311  15.724442  37.508434  14.482055  58.259197  \n",
       "\n",
       "[1102 rows x 185 columns]"
      ]
     },
     "execution_count": 229,
     "metadata": {},
     "output_type": "execute_result"
    }
   ],
   "source": [
    "prices"
   ]
  },
  {
   "cell_type": "code",
   "execution_count": 215,
   "metadata": {},
   "outputs": [
    {
     "name": "stdout",
     "output_type": "stream",
     "text": [
      "Has NA: True\n"
     ]
    }
   ],
   "source": [
    "has_na = prices.isna().any().any()\n",
    "print(\"Has NA:\", has_na)\n"
   ]
  },
  {
   "cell_type": "code",
   "execution_count": 217,
   "metadata": {},
   "outputs": [],
   "source": [
    "prices = prices.interpolate(method='linear', axis=0, limit=None, inplace=False, limit_direction='both', limit_area=None, downcast=None)"
   ]
  },
  {
   "cell_type": "code",
   "execution_count": 218,
   "metadata": {},
   "outputs": [
    {
     "name": "stdout",
     "output_type": "stream",
     "text": [
      "Has NA: False\n"
     ]
    }
   ],
   "source": [
    "has_na = prices.isna().any().any()\n",
    "print(\"Has NA:\", has_na)\n"
   ]
  },
  {
   "cell_type": "code",
   "execution_count": 219,
   "metadata": {},
   "outputs": [
    {
     "name": "stdout",
     "output_type": "stream",
     "text": [
      "False\n"
     ]
    }
   ],
   "source": [
    "column_with_NA = prices.isnull().any()\n",
    "\n",
    "# Filter the DataFrame by removing columns with any NaN values\n",
    "prices = prices.loc[:, ~column_with_NA]\n",
    "\n",
    "# Check if there are any NaN values remaining in the DataFrame\n",
    "any_NA = prices.isnull().any().any()\n",
    "\n",
    "# Print the result\n",
    "print(any_NA)"
   ]
  },
  {
   "cell_type": "code",
   "execution_count": 224,
   "metadata": {},
   "outputs": [
    {
     "name": "stdout",
     "output_type": "stream",
     "text": [
      "Any missing values in the prices DataFrame: False\n"
     ]
    }
   ],
   "source": [
    "def larger_than(x, thresh=500):\n",
    "    return any(x > thresh)\n",
    "\n",
    "# Find columns with values larger than the threshold (e.g., 500)\n",
    "column_with_unreasonable_price = prices.apply(larger_than)\n",
    "\n",
    "# Set 'CSC' column to True (assuming 'CSC' is the name of the column to include regardless of the values)\n",
    "column_with_unreasonable_price['CSC'] = True\n",
    "\n",
    "# Remove columns with unreasonable prices from the DataFrame\n",
    "prices = prices.loc[:, ~column_with_unreasonable_price]\n",
    "\n",
    "# Check if there are any missing values after removing columns\n",
    "any_na = prices.isnull().any().any()\n",
    "print(\"Any missing values in the prices DataFrame:\", any_na)\n"
   ]
  },
  {
   "cell_type": "code",
   "execution_count": null,
   "metadata": {},
   "outputs": [],
   "source": []
  },
  {
   "cell_type": "code",
   "execution_count": null,
   "metadata": {},
   "outputs": [],
   "source": []
  },
  {
   "cell_type": "code",
   "execution_count": null,
   "metadata": {},
   "outputs": [],
   "source": []
  },
  {
   "cell_type": "code",
   "execution_count": null,
   "metadata": {},
   "outputs": [],
   "source": []
  },
  {
   "cell_type": "code",
   "execution_count": null,
   "metadata": {},
   "outputs": [],
   "source": []
  },
  {
   "cell_type": "code",
   "execution_count": 225,
   "metadata": {},
   "outputs": [],
   "source": [
    "import numpy as np\n",
    "\n",
    "# Calculate the log returns of the prices DataFrame\n",
    "log_returns = np.log(prices / prices.shift(1))\n",
    "\n",
    "# Drop the first row (NaN due to differencing) and reset the index\n",
    "X_many_stocks = log_returns.dropna().reset_index(drop=True)\n",
    "\n",
    "# Get the number of stocks (N) and number of days (T)\n",
    "N = X_many_stocks.shape[1]  # number of stocks\n",
    "T = X_many_stocks.shape[0]  # number of days\n"
   ]
  },
  {
   "cell_type": "code",
   "execution_count": 222,
   "metadata": {},
   "outputs": [
    {
     "data": {
      "text/plain": [
       "(1101, 185)"
      ]
     },
     "execution_count": 222,
     "metadata": {},
     "output_type": "execute_result"
    }
   ],
   "source": [
    "X_many_stocks.shape"
   ]
  },
  {
   "cell_type": "code",
   "execution_count": 231,
   "metadata": {},
   "outputs": [],
   "source": [
    "S = log_returns.corr()"
   ]
  },
  {
   "cell_type": "code",
   "execution_count": 233,
   "metadata": {},
   "outputs": [
    {
     "data": {
      "text/plain": [
       "(185, 185)"
      ]
     },
     "execution_count": 233,
     "metadata": {},
     "output_type": "execute_result"
    }
   ],
   "source": [
    "S.shape"
   ]
  },
  {
   "cell_type": "code",
   "execution_count": null,
   "metadata": {},
   "outputs": [],
   "source": []
  },
  {
   "cell_type": "code",
   "execution_count": null,
   "metadata": {},
   "outputs": [],
   "source": []
  }
 ],
 "metadata": {
  "colab": {
   "provenance": []
  },
  "kernelspec": {
   "display_name": "Python 3 (ipykernel)",
   "language": "python",
   "name": "python3"
  },
  "language_info": {
   "codemirror_mode": {
    "name": "ipython",
    "version": 3
   },
   "file_extension": ".py",
   "mimetype": "text/x-python",
   "name": "python",
   "nbconvert_exporter": "python",
   "pygments_lexer": "ipython3",
   "version": "3.11.3"
  }
 },
 "nbformat": 4,
 "nbformat_minor": 1
}
